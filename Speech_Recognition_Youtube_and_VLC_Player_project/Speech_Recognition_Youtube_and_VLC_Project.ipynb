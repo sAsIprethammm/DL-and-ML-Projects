{
 "cells": [
  {
   "cell_type": "markdown",
   "metadata": {},
   "source": [
    "## Speech Recognition using Python"
   ]
  },
  {
   "cell_type": "code",
   "execution_count": 1,
   "metadata": {},
   "outputs": [],
   "source": [
    "# Import Speech Recogition Package\n",
    "import speech_recognition as spr"
   ]
  },
  {
   "cell_type": "code",
   "execution_count": 34,
   "metadata": {},
   "outputs": [
    {
     "data": {
      "text/plain": [
       "'3.8.1'"
      ]
     },
     "execution_count": 34,
     "metadata": {},
     "output_type": "execute_result"
    }
   ],
   "source": [
    "# Validate the installation\n",
    "spr.__version__"
   ]
  },
  {
   "cell_type": "code",
   "execution_count": 11,
   "metadata": {},
   "outputs": [],
   "source": [
    "recog = spr.Recognizer()"
   ]
  },
  {
   "cell_type": "code",
   "execution_count": 33,
   "metadata": {},
   "outputs": [
    {
     "ename": "TypeError",
     "evalue": "recognize_google() missing 1 required positional argument: 'audio_data'",
     "output_type": "error",
     "traceback": [
      "\u001b[1;31m---------------------------------------------------------------------------\u001b[0m",
      "\u001b[1;31mTypeError\u001b[0m                                 Traceback (most recent call last)",
      "\u001b[1;32m<ipython-input-33-1ed056d75f58>\u001b[0m in \u001b[0;36m<module>\u001b[1;34m\u001b[0m\n\u001b[1;32m----> 1\u001b[1;33m \u001b[0mrecog\u001b[0m\u001b[1;33m.\u001b[0m\u001b[0mrecognize_google\u001b[0m\u001b[1;33m(\u001b[0m\u001b[1;33m)\u001b[0m\u001b[1;33m\u001b[0m\u001b[1;33m\u001b[0m\u001b[0m\n\u001b[0m",
      "\u001b[1;31mTypeError\u001b[0m: recognize_google() missing 1 required positional argument: 'audio_data'"
     ]
    }
   ],
   "source": [
    "recog.recognize_google()"
   ]
  },
  {
   "cell_type": "markdown",
   "metadata": {},
   "source": [
    "### Convert Speech to Text"
   ]
  },
  {
   "cell_type": "code",
   "execution_count": 39,
   "metadata": {},
   "outputs": [],
   "source": [
    "speech = spr.AudioFile('speech.wav')\n",
    "with speech as filesource:\n",
    "    audio = recog.record(filesource)"
   ]
  },
  {
   "cell_type": "code",
   "execution_count": 40,
   "metadata": {},
   "outputs": [
    {
     "data": {
      "text/plain": [
       "'the Birch canoe slid on the smooth planks glue the seat to the dark blue background it is easy to tell the depth of a well these days a chicken leg is a verb dish rice is often served in round Bowls the juice of lemons makes fine punch the box was the one beside the pump truck the Hogs are such hot corn and garbage 4 hours of study works'"
      ]
     },
     "execution_count": 40,
     "metadata": {},
     "output_type": "execute_result"
    }
   ],
   "source": [
    "recog.recognize_google(audio)"
   ]
  },
  {
   "cell_type": "markdown",
   "metadata": {},
   "source": [
    "### Convert Speech to Text - Capture only particular segments of audio using offset and duration"
   ]
  },
  {
   "cell_type": "code",
   "execution_count": 41,
   "metadata": {},
   "outputs": [
    {
     "data": {
      "text/plain": [
       "'the Birch canoe slid on the smooth planks'"
      ]
     },
     "execution_count": 41,
     "metadata": {},
     "output_type": "execute_result"
    }
   ],
   "source": [
    "with speech as filesource:\n",
    "    audio = recog.record(filesource, duration=5)\n",
    "    \n",
    "recog.recognize_google(audio)"
   ]
  },
  {
   "cell_type": "code",
   "execution_count": 42,
   "metadata": {},
   "outputs": [
    {
     "data": {
      "text/plain": [
       "'the Birch canoe slid on the smooth planks'"
      ]
     },
     "execution_count": 42,
     "metadata": {},
     "output_type": "execute_result"
    }
   ],
   "source": [
    "# Capture multiple portions of speech one after another\n",
    "with speech as filesource:\n",
    "    audio_1 = recog.record(filesource, duration=5)\n",
    "    audio_2 = recog.record(filesource, duration=5)\n",
    "\n",
    "recog.recognize_google(audio_1)"
   ]
  },
  {
   "cell_type": "code",
   "execution_count": 43,
   "metadata": {},
   "outputs": [
    {
     "data": {
      "text/plain": [
       "'the dark blue background it is easy to tell the depth of a well'"
      ]
     },
     "execution_count": 43,
     "metadata": {},
     "output_type": "execute_result"
    }
   ],
   "source": [
    "recog.recognize_google(audio_2)"
   ]
  },
  {
   "cell_type": "code",
   "execution_count": 50,
   "metadata": {},
   "outputs": [
    {
     "data": {
      "text/plain": [
       "'proceed to the dark blue background it is easy to tell the depth of a well'"
      ]
     },
     "execution_count": 50,
     "metadata": {},
     "output_type": "execute_result"
    }
   ],
   "source": [
    "# Capturing second portion of the speech using an offset argument\n",
    "with speech as filesource:\n",
    "    audio = recog.record(filesource, offset=5, duration=7)\n",
    "\n",
    "recog.recognize_google(audio)"
   ]
  },
  {
   "cell_type": "markdown",
   "metadata": {},
   "source": [
    "### Convert Speech to Text - Effect of Noise"
   ]
  },
  {
   "cell_type": "code",
   "execution_count": 51,
   "metadata": {},
   "outputs": [
    {
     "data": {
      "text/plain": [
       "'the snail smelling old beer drinkers'"
      ]
     },
     "execution_count": 51,
     "metadata": {},
     "output_type": "execute_result"
    }
   ],
   "source": [
    "noisyspeech = spr.AudioFile('noisy_speech.wav')\n",
    "\n",
    "with noisyspeech as noisesource:\n",
    "    audio = recog.record(noisesource)\n",
    "\n",
    "recog.recognize_google(audio)"
   ]
  },
  {
   "cell_type": "code",
   "execution_count": 52,
   "metadata": {},
   "outputs": [
    {
     "data": {
      "text/plain": [
       "'still smell like old beer drinkers'"
      ]
     },
     "execution_count": 52,
     "metadata": {},
     "output_type": "execute_result"
    }
   ],
   "source": [
    "with noisyspeech as noisesource:\n",
    "    recog.adjust_for_ambient_noise(noisesource)\n",
    "    audio = recog.record(noisesource)\n",
    "\n",
    "recog.recognize_google(audio)"
   ]
  },
  {
   "cell_type": "code",
   "execution_count": 27,
   "metadata": {},
   "outputs": [
    {
     "data": {
      "text/plain": [
       "{'alternative': [{'transcript': 'the snail smelly old gear vendors',\n",
       "   'confidence': 0.81596899},\n",
       "  {'transcript': 'the snail smell of old gear vendors'},\n",
       "  {'transcript': 'the snail smelled old gear vendors'},\n",
       "  {'transcript': 'the snail smell old gear vendors'},\n",
       "  {'transcript': 'the snails smell of old gear vendors'}],\n",
       " 'final': True}"
      ]
     },
     "execution_count": 27,
     "metadata": {},
     "output_type": "execute_result"
    }
   ],
   "source": [
    "recog.recognize_google(audio, show_all=True)"
   ]
  },
  {
   "cell_type": "markdown",
   "metadata": {},
   "source": [
    "### Convert Speech to Text in Real Time using Microphone"
   ]
  },
  {
   "cell_type": "code",
   "execution_count": 66,
   "metadata": {},
   "outputs": [],
   "source": [
    "mc = spr.Microphone()"
   ]
  },
  {
   "cell_type": "code",
   "execution_count": 67,
   "metadata": {},
   "outputs": [
    {
     "data": {
      "text/plain": [
       "['Microsoft Sound Mapper - Input',\n",
       " 'Stereo Mix (Realtek High Defini',\n",
       " 'Microphone Array (Realtek High ',\n",
       " 'Microsoft Sound Mapper - Output',\n",
       " 'Speaker/Headphone (Realtek High']"
      ]
     },
     "execution_count": 67,
     "metadata": {},
     "output_type": "execute_result"
    }
   ],
   "source": [
    "#sr.Microphone.list_microphone_names()\n",
    "mc.list_microphone_names()"
   ]
  },
  {
   "cell_type": "code",
   "execution_count": 68,
   "metadata": {},
   "outputs": [],
   "source": [
    "mc = spr.Microphone(device_index=0)"
   ]
  },
  {
   "cell_type": "code",
   "execution_count": 33,
   "metadata": {},
   "outputs": [],
   "source": [
    "with mc as source:\n",
    "    audio = recog.listen(source)"
   ]
  },
  {
   "cell_type": "code",
   "execution_count": 34,
   "metadata": {},
   "outputs": [
    {
     "data": {
      "text/plain": [
       "'hello how are you'"
      ]
     },
     "execution_count": 34,
     "metadata": {},
     "output_type": "execute_result"
    }
   ],
   "source": [
    "recog.recognize_google(audio)"
   ]
  },
  {
   "cell_type": "code",
   "execution_count": null,
   "metadata": {},
   "outputs": [],
   "source": [
    "#Reducing the effect of Noise\n",
    "with mc as source:\n",
    "    recog.adjust_for_ambient_noise(source)\n",
    "    audio = recog.listen(source)"
   ]
  },
  {
   "cell_type": "markdown",
   "metadata": {},
   "source": [
    "## Speech Recognition based Project"
   ]
  },
  {
   "cell_type": "code",
   "execution_count": 88,
   "metadata": {},
   "outputs": [
    {
     "name": "stdout",
     "output_type": "stream",
     "text": [
      "Search Youtube video to play\n",
      "----------------------------\n",
      "You can speak now\n",
      "Searching for the video(s)...\n",
      "coding\n"
     ]
    }
   ],
   "source": [
    "#Import Necessary Libraries\n",
    "import speech_recognition as spr\n",
    "import webbrowser as wb\n",
    "import pafy\n",
    "import vlc\n",
    "import urllib.request\n",
    "from bs4 import BeautifulSoup\n",
    "import time\n",
    "\n",
    "#Create an empty list to store all the video URLs from the youtube.com page\n",
    "linklist = []\n",
    "\n",
    "#Create Recognizer() class objects called recog1 and recog2\n",
    "recog1 = spr.Recognizer()\n",
    "recog2 = spr.Recognizer()\n",
    "\n",
    "#Create microphone instance with device microphone chosen whose index value is 0\n",
    "mc = spr.Microphone(device_index=0)\n",
    "\n",
    "#Capture voice\n",
    "with mc as source:\n",
    "    print(\"Search Youtube video to play\")\n",
    "    print(\"----------------------------\")\n",
    "    print(\"You can speak now\")\n",
    "    audio = recog1.listen(source)\n",
    "\n",
    "#Based on speech, open youtube search page in a browser, get the first video link and play it in VLC media player\n",
    "if 'search' in recog1.recognize_google(audio):\n",
    "    recog1 = spr.Recognizer()\n",
    "    url = 'https://www.youtube.com/results?search_query='\n",
    "    with mc as source:\n",
    "        print('Searching for the video(s)...')\n",
    "        audio = recog2.listen(source)\n",
    "        \n",
    "        try:\n",
    "            get_keyword = recog1.recognize_google(audio)\n",
    "            print(get_keyword)\n",
    "            wb.get().open_new(url+get_keyword)\n",
    "            response = urllib.request.urlopen(url+get_keyword)\n",
    "            html = response.read()\n",
    "            soup = BeautifulSoup(html, 'html.parser')\n",
    "            for vid in soup.findAll(attrs={'class':'yt-uix-tile-link'}):\n",
    "                linklist.append('https://www.youtube.com' +vid['href'])\n",
    "            videolink = pafy.new(linklist[1])\n",
    "            bestlink = videolink.getbest()\n",
    "            media = vlc.MediaPlayer(bestlink.url)\n",
    "            media.play()\n",
    "#             time.sleep(60)\n",
    "#             media.stop()\n",
    "        except spr.UnknownValueError:\n",
    "            print(\"Unable to understand the input\")\n",
    "        except spr.RequestError as e:\n",
    "            print(\"Unable to provide required output\".format(e))"
   ]
  },
  {
   "cell_type": "code",
   "execution_count": 89,
   "metadata": {},
   "outputs": [],
   "source": [
    "media.stop()"
   ]
  },
  {
   "cell_type": "code",
   "execution_count": null,
   "metadata": {},
   "outputs": [],
   "source": []
  }
 ],
 "metadata": {
  "kernelspec": {
   "display_name": "Python 3",
   "language": "python",
   "name": "python3"
  },
  "language_info": {
   "codemirror_mode": {
    "name": "ipython",
    "version": 3
   },
   "file_extension": ".py",
   "mimetype": "text/x-python",
   "name": "python",
   "nbconvert_exporter": "python",
   "pygments_lexer": "ipython3",
   "version": "3.6.8"
  }
 },
 "nbformat": 4,
 "nbformat_minor": 2
}
